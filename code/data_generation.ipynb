{
 "cells": [
  {
   "cell_type": "code",
   "execution_count": 1,
   "metadata": {
    "executionInfo": {
     "elapsed": 791,
     "status": "ok",
     "timestamp": 1610011387856,
     "user": {
      "displayName": "Вячеслав Александрович Шокоров",
      "photoUrl": "",
      "userId": "11909165056502224802"
     },
     "user_tz": -180
    },
    "id": "H_YIWwnvJkkS",
    "scrolled": true
   },
   "outputs": [],
   "source": [
    "import cv2\n",
    "import matplotlib.pyplot as plt\n",
    "import numpy as np\n",
    "from scipy.stats import ortho_group\n",
    "import os\n",
    "from tqdm.notebook import tqdm\n",
    "from PIL import Image\n",
    "from torchvision import transforms\n",
    "from torchvision.utils import save_image\n",
    "import torch"
   ]
  },
  {
   "cell_type": "code",
   "execution_count": 2,
   "metadata": {
    "id": "HzyJ4E47J7bu"
   },
   "outputs": [],
   "source": [
    "def draw_rectangle(img, margin = None, transformation = 'NO', inside=True, size_of_rect=20):\n",
    "    '''\n",
    "    transformation = ['NO', 'affine', 'stretching', 'all']\n",
    "    '''\n",
    "    \n",
    "    _a = np.array([1,  1]) / np.sqrt(2)\n",
    "    _b = np.array([1, -1]) / np.sqrt(2)\n",
    "    size = np.array(img.shape[:2])\n",
    "    color = np.random.randint(100, 255, size=3).tolist()\n",
    "    if transformation == 'NO':\n",
    "        s = np.random.sample(1)[0] * 0.8 + 0.2\n",
    "        a = _a * s * size_of_rect\n",
    "        b = _b * s * size_of_rect\n",
    "    elif transformation == 'affine':\n",
    "        s = np.random.sample(1)[0] * 0.8 + 0.2\n",
    "        a = _a * s * size_of_rect\n",
    "        b = _b * s * size_of_rect\n",
    "        \n",
    "        x = ortho_group.rvs(2)\n",
    "        a = a.dot(x)\n",
    "        b = b.dot(x)\n",
    "        print(2)\n",
    "    elif transformation == 'stretching':\n",
    "        s1 = np.random.sample(1)[0] * 0.8 + 0.2\n",
    "        s2 = np.random.sample(1)[0] * 0.8 + 0.2\n",
    "        a = ((_a + _b) * s1 + (_a - _b) * s2) * size_of_rect / 2\n",
    "        b = ((_a + _b) * s1 - (_a - _b) * s2) * size_of_rect / 2\n",
    "        \n",
    "    elif transformation == 'affine + stretching':\n",
    "        s1 = np.random.sample(1)[0] * 0.8 + 0.2\n",
    "        s2 = np.random.sample(1)[0] * 0.8 + 0.2\n",
    "        a = _a * s1 * size_of_rect\n",
    "        b = _b * s2 * size_of_rect\n",
    "        \n",
    "        x = ortho_group.rvs(2)\n",
    "        a = a.dot(x)\n",
    "        b = b.dot(x)\n",
    "        print(1)\n",
    "    \n",
    "    if inside:\n",
    "        c = np.random.randint(np.maximum(abs(a), abs(b)), size - np.maximum(abs(a), abs(b)))\n",
    "    else:\n",
    "        c = np.random.randint(0, size)\n",
    "        \n",
    "    rect = np.expand_dims(np.vstack([c - a, c + b, c + a, c - b]), 1).astype(np.int32)\n",
    "    return rect.squeeze(), cv2.drawContours(img.copy(), [rect], 0, color, 1)"
   ]
  },
  {
   "cell_type": "code",
   "execution_count": 3,
   "metadata": {},
   "outputs": [],
   "source": [
    "def draw_random_curve(img, count = 1, line_size = (30, 70), variance = 0.2):\n",
    "    res = img.copy()\n",
    "    size = np.array(img.shape[:2])\n",
    "    for _ in range(count):\n",
    "        a = np.empty((np.random.randint(line_size[0], line_size[1], 1)[0], 2))\n",
    "        angle = np.random.rand() * np.pi * 2\n",
    "        a[0] = [np.sin(angle), np.cos(angle)]\n",
    "\n",
    "        for i, v in enumerate(a[:-1]):\n",
    "            angle = (np.random.rand() * variance + (0.5 - variance / 2)) * np.pi\n",
    "            R = np.array([[np.sin(angle),-np.cos(angle)],\n",
    "                          [np.cos(angle), np.sin(angle)]])\n",
    "            a[i + 1] = R.dot(v)\n",
    "        a = a * 1\n",
    "        a = np.cumsum(a, axis=0).astype(np.int32)\n",
    "        a += np.random.randint(0, size)\n",
    "        \n",
    "        color = np.random.randint(100, 255, size=3).tolist()\n",
    "        cv2.polylines(res, [np.expand_dims(a, 1)], 0, color, 1)\n",
    "\n",
    "    return res"
   ]
  },
  {
   "cell_type": "code",
   "execution_count": 4,
   "metadata": {},
   "outputs": [],
   "source": [
    "def draw_random_triange(img, count = 1, tr_size = 10):\n",
    "    res = img.copy()\n",
    "    size = np.array(img.shape[:2])\n",
    "    for _ in range(count):\n",
    "        a = np.random.random(6).reshape(3, 2) * 2 - 1\n",
    "        c = np.random.randint(0, size)\n",
    "        \n",
    "        rect = np.expand_dims(c + a * tr_size, 1).astype(np.int32)\n",
    "        color = np.random.randint(100, 255, size=3).tolist()\n",
    "    \n",
    "        cv2.drawContours(res, [rect], 0, color, 1)\n",
    "    return res"
   ]
  },
  {
   "cell_type": "code",
   "execution_count": 5,
   "metadata": {},
   "outputs": [],
   "source": [
    "def draw_random_ellipse(img, count = 1, ell_size = 10):\n",
    "    res = img.copy()\n",
    "    size = np.array(img.shape[:2])\n",
    "    for _ in range(count):\n",
    "        a = np.random.randint(0, ell_size, 2)\n",
    "        c = np.random.randint(0, size)\n",
    "        \n",
    "        color = np.random.randint(100, 255, size=3).tolist()\n",
    "    \n",
    "        cv2.ellipse(res, tuple(c), tuple(a), 0, 360, 0, color)\n",
    "    return res"
   ]
  },
  {
   "cell_type": "code",
   "execution_count": 9,
   "metadata": {},
   "outputs": [
    {
     "name": "stdout",
     "output_type": "stream",
     "text": [
      "6.08 ms ± 688 µs per loop (mean ± std. dev. of 7 runs, 100 loops each)\n"
     ]
    }
   ],
   "source": [
    "%%timeit\n",
    "image = np.zeros((128, 128, 3), dtype=np.uint8)\n",
    "\n",
    "rect, res = draw_rectangle(image, transformation = 'stretching', inside=True)\n",
    "\n",
    "res = draw_random_curve(res, count=10)\n",
    "\n",
    "res = draw_random_triange(res, count=10)\n",
    "\n",
    "res = draw_random_ellipse(res, count=3)\n",
    "\n",
    "res = Image.fromarray(res)\n",
    "# plt.imshow(res)"
   ]
  },
  {
   "cell_type": "code",
   "execution_count": 10,
   "metadata": {},
   "outputs": [],
   "source": [
    "count_dict = dict(transformation = 'stretching', curves = 10, trianges=10, ellipses = 10)\n",
    "path_name = 'data/random_0_10/'# + '_'.join([str(i) for i in count_dict.values()])"
   ]
  },
  {
   "cell_type": "code",
   "execution_count": 11,
   "metadata": {},
   "outputs": [],
   "source": [
    "if not os.path.exists(path_name):\n",
    "    os.makedirs(path_name)"
   ]
  },
  {
   "cell_type": "code",
   "execution_count": 12,
   "metadata": {},
   "outputs": [],
   "source": [
    "t = transforms.Compose([transforms.Resize(64),\n",
    "                        transforms.ToTensor(), \n",
    "                       ])"
   ]
  },
  {
   "cell_type": "code",
   "execution_count": 19,
   "metadata": {
    "scrolled": true
   },
   "outputs": [
    {
     "data": {
      "application/vnd.jupyter.widget-view+json": {
       "model_id": "53527e89eb254c5e826d943dc62ff62e",
       "version_major": 2,
       "version_minor": 0
      },
      "text/plain": [
       "HBox(children=(FloatProgress(value=0.0, max=10.0), HTML(value='')))"
      ]
     },
     "metadata": {},
     "output_type": "display_data"
    },
    {
     "data": {
      "application/vnd.jupyter.widget-view+json": {
       "model_id": "88addecff5994b8998c90ab44aca83fc",
       "version_major": 2,
       "version_minor": 0
      },
      "text/plain": [
       "HBox(children=(FloatProgress(value=0.0, max=8192.0), HTML(value='')))"
      ]
     },
     "metadata": {},
     "output_type": "display_data"
    },
    {
     "name": "stdout",
     "output_type": "stream",
     "text": [
      "\n"
     ]
    },
    {
     "data": {
      "application/vnd.jupyter.widget-view+json": {
       "model_id": "9b9ddfb23c3f4ab2b44fb4bb94e0036a",
       "version_major": 2,
       "version_minor": 0
      },
      "text/plain": [
       "HBox(children=(FloatProgress(value=0.0, max=8192.0), HTML(value='')))"
      ]
     },
     "metadata": {},
     "output_type": "display_data"
    },
    {
     "name": "stdout",
     "output_type": "stream",
     "text": [
      "\n"
     ]
    },
    {
     "data": {
      "application/vnd.jupyter.widget-view+json": {
       "model_id": "8cd4673b18f14099a68e345988d5eb9c",
       "version_major": 2,
       "version_minor": 0
      },
      "text/plain": [
       "HBox(children=(FloatProgress(value=0.0, max=8192.0), HTML(value='')))"
      ]
     },
     "metadata": {},
     "output_type": "display_data"
    },
    {
     "name": "stdout",
     "output_type": "stream",
     "text": [
      "\n"
     ]
    },
    {
     "data": {
      "application/vnd.jupyter.widget-view+json": {
       "model_id": "8c66c0e4bfda4903bf08d2f75714e57f",
       "version_major": 2,
       "version_minor": 0
      },
      "text/plain": [
       "HBox(children=(FloatProgress(value=0.0, max=8192.0), HTML(value='')))"
      ]
     },
     "metadata": {},
     "output_type": "display_data"
    },
    {
     "name": "stdout",
     "output_type": "stream",
     "text": [
      "\n"
     ]
    },
    {
     "data": {
      "application/vnd.jupyter.widget-view+json": {
       "model_id": "b644d5f376754012846053e339871cb8",
       "version_major": 2,
       "version_minor": 0
      },
      "text/plain": [
       "HBox(children=(FloatProgress(value=0.0, max=8192.0), HTML(value='')))"
      ]
     },
     "metadata": {},
     "output_type": "display_data"
    },
    {
     "name": "stdout",
     "output_type": "stream",
     "text": [
      "\n"
     ]
    },
    {
     "data": {
      "application/vnd.jupyter.widget-view+json": {
       "model_id": "ecc6e343df5241778cb17050c0aff323",
       "version_major": 2,
       "version_minor": 0
      },
      "text/plain": [
       "HBox(children=(FloatProgress(value=0.0, max=8192.0), HTML(value='')))"
      ]
     },
     "metadata": {},
     "output_type": "display_data"
    },
    {
     "name": "stdout",
     "output_type": "stream",
     "text": [
      "\n"
     ]
    },
    {
     "data": {
      "application/vnd.jupyter.widget-view+json": {
       "model_id": "fcff00c2afea47f2b727bfbf2fe60953",
       "version_major": 2,
       "version_minor": 0
      },
      "text/plain": [
       "HBox(children=(FloatProgress(value=0.0, max=8192.0), HTML(value='')))"
      ]
     },
     "metadata": {},
     "output_type": "display_data"
    },
    {
     "name": "stdout",
     "output_type": "stream",
     "text": [
      "\n"
     ]
    },
    {
     "data": {
      "application/vnd.jupyter.widget-view+json": {
       "model_id": "26fadab38b6a4b4d8a00179eefa7721d",
       "version_major": 2,
       "version_minor": 0
      },
      "text/plain": [
       "HBox(children=(FloatProgress(value=0.0, max=8192.0), HTML(value='')))"
      ]
     },
     "metadata": {},
     "output_type": "display_data"
    },
    {
     "name": "stdout",
     "output_type": "stream",
     "text": [
      "\n"
     ]
    },
    {
     "data": {
      "application/vnd.jupyter.widget-view+json": {
       "model_id": "62396c1bdece4e84bca8052638e4ab05",
       "version_major": 2,
       "version_minor": 0
      },
      "text/plain": [
       "HBox(children=(FloatProgress(value=0.0, max=8192.0), HTML(value='')))"
      ]
     },
     "metadata": {},
     "output_type": "display_data"
    },
    {
     "name": "stdout",
     "output_type": "stream",
     "text": [
      "\n"
     ]
    },
    {
     "data": {
      "application/vnd.jupyter.widget-view+json": {
       "model_id": "6a1b8df88f3540ceac831838df3c4763",
       "version_major": 2,
       "version_minor": 0
      },
      "text/plain": [
       "HBox(children=(FloatProgress(value=0.0, max=8192.0), HTML(value='')))"
      ]
     },
     "metadata": {},
     "output_type": "display_data"
    },
    {
     "name": "stdout",
     "output_type": "stream",
     "text": [
      "\n",
      "\n"
     ]
    }
   ],
   "source": [
    "for epoch in tqdm(range(0, 10)):\n",
    "    rect_true = np.empty((2**13, 4, 2))\n",
    "    res = torch.Tensor()\n",
    "    for i in tqdm(range(2**13), leave=True):\n",
    "        image = np.zeros((128, 128, 3), dtype=np.uint8)\n",
    "        rect, image = draw_rectangle(image, transformation = count_dict['transformation'], inside=True)\n",
    "        rect_true[i] = rect\n",
    "        \n",
    "        counts = np.random.randint(0, 10, 3)\n",
    "\n",
    "        image = draw_random_curve(image, count=counts[0])\n",
    "        image = draw_random_triange(image, count=counts[1])\n",
    "        image = draw_random_ellipse(image, count=counts[2])\n",
    "\n",
    "        image = Image.fromarray(image)\n",
    "        image = t(image)\n",
    "        res = torch.cat([image.unsqueeze(0), res], 0)\n",
    "\n",
    "#         plt.imsave(f'{path_name}/image_{i}.png', image)\n",
    "    torch.save(res, f'{path_name}/{str(epoch).zfill(2)}')\n",
    "    np.save(f'{path_name}/{str(epoch).zfill(2)}', rect_true)\n",
    "        \n",
    "    del res, rect_true"
   ]
  },
  {
   "cell_type": "code",
   "execution_count": null,
   "metadata": {},
   "outputs": [],
   "source": []
  }
 ],
 "metadata": {
  "colab": {
   "authorship_tag": "ABX9TyOd7Iz7VjL+epe8ui6DnEGO",
   "name": "data_generation.ipynb",
   "provenance": []
  },
  "kernelspec": {
   "display_name": "Python 3",
   "language": "python",
   "name": "python3"
  },
  "language_info": {
   "codemirror_mode": {
    "name": "ipython",
    "version": 3
   },
   "file_extension": ".py",
   "mimetype": "text/x-python",
   "name": "python",
   "nbconvert_exporter": "python",
   "pygments_lexer": "ipython3",
   "version": "3.8.6"
  }
 },
 "nbformat": 4,
 "nbformat_minor": 1
}
